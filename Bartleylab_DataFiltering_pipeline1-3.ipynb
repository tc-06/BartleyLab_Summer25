{
 "cells": [
  {
   "cell_type": "markdown",
   "id": "8bd6438b-69ad-4693-9feb-c848b01eabc4",
   "metadata": {},
   "source": [
    "### Bartley Lab: Switchgrass Cross-Section Filtering Pipeline ###\n",
    "**Author: Tianyi Chen, May 2025**\n",
    "\n",
    "Objective: Program for the Bartley lab at WSU. \n",
    "This program will be utilized to sift through folder with ~750 files/png images of cross-sections of switchgrass to extract the most relevant images to be used to train a computer vision model that detects aerenchyma.\n",
    "\n",
    "The program will:\n",
    "• Delete *.xml and 40 × magnification .png files in every sub-folder.\n",
    "• Copy the remaining 4 × / 10 × PNGs into a single folder named\n",
    "  ‘switchgrass_cross_sections(4x_10x)’ that sits beside the sub-folders."
   ]
  },
  {
   "cell_type": "code",
   "execution_count": 16,
   "id": "817b7a9f-0ea3-4e8d-ab2a-3359343a45a5",
   "metadata": {},
   "outputs": [],
   "source": [
    "#import packages\n",
    "import os\n",
    "import shutil"
   ]
  },
  {
   "cell_type": "code",
   "execution_count": 17,
   "id": "d7551ee0-38fc-42ad-b903-e64a77767b1b",
   "metadata": {},
   "outputs": [],
   "source": [
    "# Helper function for folder path validation\n",
    "def validatepath(folderpath):\n",
    "    if not os.path.exists(folderpath):  \n",
    "        raise FileNotFoundError(\"Path does not exist.\")\n",
    "    elif not os.path.isdir(folderpath):\n",
    "        raise NotADirectoryError(\"Path is not a directory.\")"
   ]
  },
  {
   "cell_type": "code",
   "execution_count": 18,
   "id": "cb9c606c-0ef7-423d-9839-7e3a19847fbe",
   "metadata": {},
   "outputs": [
    {
     "name": "stdin",
     "output_type": "stream",
     "text": [
      "Input folder path: /Users/tianyichen/Desktop/sg_cs copy\n"
     ]
    }
   ],
   "source": [
    "#Get user to import the folder path\n",
    "folderpath = input(\"Input folder path:\").strip() #use strip to take away blank spaces\n",
    "\n",
    "#validate path\n",
    "validatepath(folderpath)\n",
    "\n",
    "#change working directory to inside that folder\n",
    "os.chdir(folderpath)"
   ]
  },
  {
   "cell_type": "code",
   "execution_count": 19,
   "id": "e52e8a0f-3db7-4e06-a07e-af8a4a681914",
   "metadata": {},
   "outputs": [],
   "source": [
    "#create a new folder which we'll copy all of the useful cross-section to\n",
    "directory_name = \"switchgrass_cross_sections(4x_10x)\" \n",
    "if not os.path.exists(directory_name):\n",
    "    os.mkdir(directory_name)\n",
    "\n",
    "#access the subfolders names\n",
    "subfolders = os.listdir(folderpath)  \n",
    "\n",
    "#loop through subfolders and access all items in subfolder\n",
    "for subfoldername in subfolders:\n",
    "\n",
    "    #prevent same file error\n",
    "    if subfoldername == directory_name:\n",
    "        continue\n",
    "        \n",
    "    subfolder_path = os.path.join(folderpath, subfoldername)\n",
    "\n",
    "    #skip the hidden DS files\n",
    "    if not os.path.isdir(subfolder_path):\n",
    "        continue  # Skip files like .DS_Store\n",
    "    \n",
    "    #aggregate names of files in subfolders\n",
    "    imagenames = os.listdir(subfolder_path)\n",
    "    \n",
    "    #remove all xml files\n",
    "    for name in imagenames:\n",
    "        if name.endswith(\".xml\") or \"40x\" in name:\n",
    "            file_path = os.path.join(subfolder_path, name)\n",
    "            if os.path.exists(file_path):\n",
    "                os.remove(file_path)\n",
    "\n",
    "    #copy back the remaining images to the new folder\n",
    "    #reaggregate\n",
    "    final_image_names = os.listdir(subfolder_path)\n",
    "    for name in final_image_names:\n",
    "        file_path = os.path.join(subfolder_path, name)\n",
    "        shutil.copy(file_path, directory_name)"
   ]
  },
  {
   "cell_type": "code",
   "execution_count": 21,
   "id": "b4efc9e3-22d4-428f-81fc-95d34514d9c2",
   "metadata": {},
   "outputs": [
    {
     "name": "stdout",
     "output_type": "stream",
     "text": [
      "Number of 4x images: 1275\n",
      "Number of 10x images: 734\n",
      "Total number of images: 2059\n"
     ]
    }
   ],
   "source": [
    "#print number of 4x and number of 10x and total number of images (get dimensions)\n",
    "\n",
    "# Counters\n",
    "count_4x = 0\n",
    "count_10x = 0\n",
    "\n",
    "total_images = 0\n",
    "\n",
    "# Loop through images in the new folder\n",
    "for image_name in os.listdir(directory_name):\n",
    "    total_images += 1\n",
    "    if \"4x\" in image_name:\n",
    "        count_4x += 1\n",
    "    elif \"10x\" in image_name:\n",
    "        count_10x += 1\n",
    "\n",
    "# Print the results\n",
    "print(f\"Number of 4x images: {count_4x}\")\n",
    "print(f\"Number of 10x images: {count_10x}\")\n",
    "print(f\"Total number of images: {total_images}\")"
   ]
  }
 ],
 "metadata": {
  "kernelspec": {
   "display_name": "Python 3 (ipykernel)",
   "language": "python",
   "name": "python3"
  },
  "language_info": {
   "codemirror_mode": {
    "name": "ipython",
    "version": 3
   },
   "file_extension": ".py",
   "mimetype": "text/x-python",
   "name": "python",
   "nbconvert_exporter": "python",
   "pygments_lexer": "ipython3",
   "version": "3.12.4"
  }
 },
 "nbformat": 4,
 "nbformat_minor": 5
}
