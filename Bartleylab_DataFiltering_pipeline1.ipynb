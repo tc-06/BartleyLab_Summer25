{
 "cells": [
  {
   "cell_type": "markdown",
   "id": "8bd6438b-69ad-4693-9feb-c848b01eabc4",
   "metadata": {},
   "source": [
    "### Bartley Lab: Switchgrass Cross-Section Filtering Pipeline ###\n",
    "**Author: Tianyi Chen, May 2025**\n",
    "\n",
    "Objective: Program for the Bartley lab at WSU. \n",
    "This program will be utilized to sift through folder with ~750 files/png images of cross-sections of switchgrass to extract the most relevant images to be used to train a computer vision model that detects aerenchyma.\n",
    "\n",
    "The program will:\n",
    "• Delete *.xml and 40 × magnification .png files in every sub-folder.\n",
    "• Copy the remaining 4 × / 10 × PNGs into a single folder named\n",
    "  ‘switchgrass_cross_sections(4x_10x)’ that sits beside the sub-folders."
   ]
  },
  {
   "cell_type": "code",
   "execution_count": 6,
   "id": "817b7a9f-0ea3-4e8d-ab2a-3359343a45a5",
   "metadata": {},
   "outputs": [],
   "source": [
    "#import packages\n",
    "import os\n",
    "import shutil"
   ]
  },
  {
   "cell_type": "code",
   "execution_count": 10,
   "id": "d7551ee0-38fc-42ad-b903-e64a77767b1b",
   "metadata": {},
   "outputs": [],
   "source": [
    "# Helper function for folder path validation\n",
    "def validatepath(folderpath):\n",
    "    if not os.path.exists(folderpath):  \n",
    "        raise FileNotFoundError(\"Path does not exist.\")\n",
    "    elif not os.path.isdir(folderpath):\n",
    "        raise NotADirectoryError(\"Path is not a directory.\")"
   ]
  },
  {
   "cell_type": "code",
   "execution_count": 11,
   "id": "cb9c606c-0ef7-423d-9839-7e3a19847fbe",
   "metadata": {},
   "outputs": [
    {
     "name": "stdin",
     "output_type": "stream",
     "text": [
      "Input folder path: /Users/tianyichen/Desktop/sgcs_filter\n"
     ]
    }
   ],
   "source": [
    "#Get user to import the folder path\n",
    "folderpath = input(\"Input folder path:\").strip() #use strip to take away blank spaces\n",
    "\n",
    "#validate path\n",
    "validatepath(folderpath)\n",
    "\n",
    "#change working directory to inside that folder\n",
    "os.chdir(folderpath)"
   ]
  },
  {
   "cell_type": "code",
   "execution_count": 13,
   "id": "e52e8a0f-3db7-4e06-a07e-af8a4a681914",
   "metadata": {},
   "outputs": [],
   "source": [
    "#create a new folder which we'll copy all of the useful cross-section to\n",
    "directory_name = \"switchgrass_cross_sections(4x_10x)\" \n",
    "if not os.path.exists(directory_name):\n",
    "    os.mkdir(directory_name)\n",
    "\n",
    "#access the subfolders names\n",
    "subfolders = os.listdir(folderpath)  \n",
    "\n",
    "#loop through subfolders and access all items in subfolder\n",
    "for subfoldername in subfolders:\n",
    "\n",
    "    #Skip .DS_Store (check if each item inside the subfolder is a real directory)\n",
    "    if not os.path.isdir(subfolder_path):\n",
    "        continue\n",
    "\n",
    "    subfolder_path = os.path.join(folderpath, subfoldername)\n",
    "    #aggregate names of files in subfolders\n",
    "    imagenames = os.listdir(subfolder_path)\n",
    "    \n",
    "    #remove all xml files\n",
    "    for name in imagenames:\n",
    "        if name.endswith(\".xml\") or \"40x\" in name:\n",
    "            file_path = os.path.join(subfolder_path, name)\n",
    "            if os.path.exists(file_path):\n",
    "                os.remove(file_path)\n",
    "\n",
    "    #copy back the remaining images to the new folder\n",
    "    #reaggregate\n",
    "    final_image_names = os.listdir(subfolder_path)\n",
    "    for name in final_image_names:\n",
    "        file_path = os.path.join(subfolder_path, name)\n",
    "        shutil.copy(file_path, directory_name)"
   ]
  }
 ],
 "metadata": {
  "kernelspec": {
   "display_name": "Python 3 (ipykernel)",
   "language": "python",
   "name": "python3"
  },
  "language_info": {
   "codemirror_mode": {
    "name": "ipython",
    "version": 3
   },
   "file_extension": ".py",
   "mimetype": "text/x-python",
   "name": "python",
   "nbconvert_exporter": "python",
   "pygments_lexer": "ipython3",
   "version": "3.12.4"
  }
 },
 "nbformat": 4,
 "nbformat_minor": 5
}
